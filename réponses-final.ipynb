{
 "metadata": {
  "language_info": {
   "codemirror_mode": {
    "name": "ipython",
    "version": 3
   },
   "file_extension": ".py",
   "mimetype": "text/x-python",
   "name": "python",
   "nbconvert_exporter": "python",
   "pygments_lexer": "ipython3",
   "version": 3
  },
  "orig_nbformat": 2
 },
 "nbformat": 4,
 "nbformat_minor": 2,
 "cells": [
  {
   "source": [
    "# Projet de mathématiques (UE11.1) – Équations Différentielles\n",
    "### dd month_str yyyy\n",
    "<br>LEBŒUF Antoine<br>HERNOT Anatole"
   ],
   "cell_type": "markdown",
   "metadata": {}
  },
  {
   "source": [
    "<br><br>"
   ],
   "cell_type": "markdown",
   "metadata": {}
  },
  {
   "source": [
    "## Question 1\n",
    "\n",
    "To be continued"
   ],
   "cell_type": "markdown",
   "metadata": {}
  }
 ]
}